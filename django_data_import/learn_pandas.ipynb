{
 "cells": [
  {
   "cell_type": "code",
   "execution_count": 4,
   "metadata": {},
   "outputs": [],
   "source": [
    "import pandas as pd"
   ]
  },
  {
   "cell_type": "code",
   "execution_count": 6,
   "metadata": {},
   "outputs": [],
   "source": [
    "df = pd.read_excel(\"./Lista de kits A.dias Solar SolarZ 03.01.xlsx\")"
   ]
  },
  {
   "cell_type": "code",
   "execution_count": 34,
   "metadata": {},
   "outputs": [],
   "source": [
    "def transform_data(of, to):\n",
    "    return of if not pd.isnull(of) else to"
   ]
  },
  {
   "cell_type": "code",
   "execution_count": 63,
   "metadata": {},
   "outputs": [],
   "source": [
    "def get_column_value(column_name: str):\n",
    "    column_map = {'object': '', 'float64': 0, 'int64': 0}\n",
    "    return column_map[df[column_name].dtype.name]"
   ]
  },
  {
   "cell_type": "code",
   "execution_count": 78,
   "metadata": {},
   "outputs": [
    {
     "name": "stdout",
     "output_type": "stream",
     "text": [
      "Qtde. Inversor 2 0\n",
      "Inversor 2 0\n",
      "Quant. Stringbox 0\n",
      "Modelo Stringbox 0\n",
      "Quant. Estrutura 1 0\n",
      "Modelo Estrutura 1 0\n",
      "Quant. Estrutura 2 0\n",
      "Modelo Estrutura 2 0\n",
      "Quant. Estrutura 3 0\n",
      "Modelo Estrutura 3 0\n",
      "Quant. Estrutura 4 0\n",
      "Modelo Estrutura 4 0\n",
      "Quant. Estrutura 5 0\n",
      "Modelo Estrutura 5 0\n"
     ]
    }
   ],
   "source": [
    "\n",
    "for column in df.columns:\n",
    "    if df[column].isna().sum() > 0:\n",
    "        df[column].fillna(get_column_value(column))\n",
    "        print(column, df_clean.isna().sum())"
   ]
  },
  {
   "cell_type": "code",
   "execution_count": 37,
   "metadata": {},
   "outputs": [
    {
     "data": {
      "text/plain": [
       "0         2\n",
       "1         3\n",
       "2         4\n",
       "3         5\n",
       "4         6\n",
       "       ... \n",
       "4937    120\n",
       "4938    130\n",
       "4939    140\n",
       "4940    150\n",
       "4941    160\n",
       "Name: Quant. Módulos, Length: 4942, dtype: int64"
      ]
     },
     "execution_count": 37,
     "metadata": {},
     "output_type": "execute_result"
    }
   ],
   "source": [
    "df[\"Quant. Módulos\"].transform(lambda data: transform_data(data, 0))"
   ]
  }
 ],
 "metadata": {
  "kernelspec": {
   "display_name": "venv",
   "language": "python",
   "name": "python3"
  },
  "language_info": {
   "codemirror_mode": {
    "name": "ipython",
    "version": 3
   },
   "file_extension": ".py",
   "mimetype": "text/x-python",
   "name": "python",
   "nbconvert_exporter": "python",
   "pygments_lexer": "ipython3",
   "version": "3.10.6"
  },
  "orig_nbformat": 4
 },
 "nbformat": 4,
 "nbformat_minor": 2
}
